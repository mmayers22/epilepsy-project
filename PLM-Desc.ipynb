{
 "cells": [
  {
   "cell_type": "code",
   "execution_count": 1,
   "id": "26dc9b2c",
   "metadata": {},
   "outputs": [],
   "source": [
    "import pandas as pd\n",
    "import math"
   ]
  },
  {
   "cell_type": "code",
   "execution_count": 2,
   "id": "73170154",
   "metadata": {},
   "outputs": [],
   "source": [
    "df_unfilt = pd.read_csv('PLM_final_data.csv')"
   ]
  },
  {
   "cell_type": "code",
   "execution_count": 3,
   "id": "7f6362cf",
   "metadata": {},
   "outputs": [],
   "source": [
    "df = df_unfilt.filter(items = ['id','deceased','country','primaryConditionName','secondaryConditionNames','firstDiagnosisDate','sex','state','userAge'])"
   ]
  },
  {
   "cell_type": "code",
   "execution_count": 4,
   "id": "1d031e50",
   "metadata": {},
   "outputs": [],
   "source": [
    "df['secondaryConditionNames'] = df['secondaryConditionNames'].apply(eval)"
   ]
  },
  {
   "cell_type": "code",
   "execution_count": 5,
   "id": "d4beb50f",
   "metadata": {},
   "outputs": [],
   "source": [
    "for i in range(0, len(df)):\n",
    "    pc = df['primaryConditionName'][i]\n",
    "    if type(pc) != 'float64':\n",
    "        df['secondaryConditionNames'][i].insert(0, pc)"
   ]
  },
  {
   "cell_type": "code",
   "execution_count": 6,
   "id": "4b155f6d",
   "metadata": {},
   "outputs": [],
   "source": [
    "df = df.rename(columns = {'secondaryConditionNames':'condition_names'}).drop(columns = ['primaryConditionName'])"
   ]
  },
  {
   "cell_type": "code",
   "execution_count": 13,
   "id": "7489f643",
   "metadata": {},
   "outputs": [],
   "source": [
    "def row_1D(series):\n",
    "    d_list = []\n",
    "    for x in series:\n",
    "        d_list.append(x)\n",
    "    return d_list"
   ]
  },
  {
   "cell_type": "code",
   "execution_count": 14,
   "id": "c357027c",
   "metadata": {},
   "outputs": [],
   "source": [
    "conditionsDict = {}\n",
    "for i in range(0, len(df)):\n",
    "    conditionsDict[df['id'][i]] = row_1D(df['condition_names'][i])"
   ]
  },
  {
   "cell_type": "code",
   "execution_count": 17,
   "id": "7848ddff",
   "metadata": {},
   "outputs": [],
   "source": [
    "patientlist = []\n",
    "diseaselist = []\n",
    "for i in conditionsDict:\n",
    "    for x in conditionsDict[i]:\n",
    "        patientlist.append(i)\n",
    "        diseaselist.append(x)\n",
    "data = {'id':patientlist, 'disease':diseaselist}"
   ]
  },
  {
   "cell_type": "code",
   "execution_count": 18,
   "id": "acad7c33",
   "metadata": {},
   "outputs": [],
   "source": [
    "edges = pd.DataFrame(data)"
   ]
  },
  {
   "cell_type": "code",
   "execution_count": 19,
   "id": "abcd7d72",
   "metadata": {},
   "outputs": [],
   "source": [
    "edges.to_csv('edges.csv')"
   ]
  },
  {
   "cell_type": "code",
   "execution_count": 24,
   "id": "f9bb2550",
   "metadata": {},
   "outputs": [
    {
     "data": {
      "text/html": [
       "<div>\n",
       "<style scoped>\n",
       "    .dataframe tbody tr th:only-of-type {\n",
       "        vertical-align: middle;\n",
       "    }\n",
       "\n",
       "    .dataframe tbody tr th {\n",
       "        vertical-align: top;\n",
       "    }\n",
       "\n",
       "    .dataframe thead th {\n",
       "        text-align: right;\n",
       "    }\n",
       "</style>\n",
       "<table border=\"1\" class=\"dataframe\">\n",
       "  <thead>\n",
       "    <tr style=\"text-align: right;\">\n",
       "      <th></th>\n",
       "      <th>id</th>\n",
       "      <th>deceased</th>\n",
       "      <th>country</th>\n",
       "      <th>condition_names</th>\n",
       "      <th>firstDiagnosisDate</th>\n",
       "      <th>sex</th>\n",
       "      <th>state</th>\n",
       "      <th>userAge</th>\n",
       "      <th>Age_Group</th>\n",
       "    </tr>\n",
       "  </thead>\n",
       "  <tbody>\n",
       "    <tr>\n",
       "      <th>0</th>\n",
       "      <td>552284</td>\n",
       "      <td>False</td>\n",
       "      <td>United States</td>\n",
       "      <td>[epilepsy, broken shoulder, broken ankle, brok...</td>\n",
       "      <td>1974.0</td>\n",
       "      <td>F</td>\n",
       "      <td>FL</td>\n",
       "      <td>60.0</td>\n",
       "      <td>55-70</td>\n",
       "    </tr>\n",
       "    <tr>\n",
       "      <th>1</th>\n",
       "      <td>298121</td>\n",
       "      <td>False</td>\n",
       "      <td>Belgium</td>\n",
       "      <td>[fibromyalgia, epilepsy, gallstones, insomnia,...</td>\n",
       "      <td>2012.0</td>\n",
       "      <td>M</td>\n",
       "      <td>Vlaams Brabant</td>\n",
       "      <td>63.0</td>\n",
       "      <td>55-70</td>\n",
       "    </tr>\n",
       "    <tr>\n",
       "      <th>2</th>\n",
       "      <td>740546</td>\n",
       "      <td>False</td>\n",
       "      <td>United States</td>\n",
       "      <td>[systemic lupus erythematosus, osteoarthritis,...</td>\n",
       "      <td>1991.0</td>\n",
       "      <td>F</td>\n",
       "      <td>NH</td>\n",
       "      <td>52.0</td>\n",
       "      <td>35-54</td>\n",
       "    </tr>\n",
       "    <tr>\n",
       "      <th>3</th>\n",
       "      <td>253861</td>\n",
       "      <td>False</td>\n",
       "      <td>NaN</td>\n",
       "      <td>[epilepsy, diabetes type 1]</td>\n",
       "      <td>1979.0</td>\n",
       "      <td>M</td>\n",
       "      <td>NaN</td>\n",
       "      <td>54.0</td>\n",
       "      <td>35-54</td>\n",
       "    </tr>\n",
       "    <tr>\n",
       "      <th>4</th>\n",
       "      <td>431106</td>\n",
       "      <td>False</td>\n",
       "      <td>United States</td>\n",
       "      <td>[primary lateral sclerosis, common variable im...</td>\n",
       "      <td>2017.0</td>\n",
       "      <td>M</td>\n",
       "      <td>WA</td>\n",
       "      <td>57.0</td>\n",
       "      <td>55-70</td>\n",
       "    </tr>\n",
       "  </tbody>\n",
       "</table>\n",
       "</div>"
      ],
      "text/plain": [
       "       id  deceased        country  \\\n",
       "0  552284     False  United States   \n",
       "1  298121     False        Belgium   \n",
       "2  740546     False  United States   \n",
       "3  253861     False            NaN   \n",
       "4  431106     False  United States   \n",
       "\n",
       "                                     condition_names  firstDiagnosisDate sex  \\\n",
       "0  [epilepsy, broken shoulder, broken ankle, brok...              1974.0   F   \n",
       "1  [fibromyalgia, epilepsy, gallstones, insomnia,...              2012.0   M   \n",
       "2  [systemic lupus erythematosus, osteoarthritis,...              1991.0   F   \n",
       "3                        [epilepsy, diabetes type 1]              1979.0   M   \n",
       "4  [primary lateral sclerosis, common variable im...              2017.0   M   \n",
       "\n",
       "            state  userAge Age_Group  \n",
       "0              FL     60.0     55-70  \n",
       "1  Vlaams Brabant     63.0     55-70  \n",
       "2              NH     52.0     35-54  \n",
       "3             NaN     54.0     35-54  \n",
       "4              WA     57.0     55-70  "
      ]
     },
     "execution_count": 24,
     "metadata": {},
     "output_type": "execute_result"
    }
   ],
   "source": [
    "df.head()"
   ]
  },
  {
   "cell_type": "code",
   "execution_count": 25,
   "id": "d17cbc3d",
   "metadata": {},
   "outputs": [],
   "source": [
    "demographics = df.drop(columns = ['condition_names'])"
   ]
  },
  {
   "cell_type": "code",
   "execution_count": 26,
   "id": "d4dada40",
   "metadata": {},
   "outputs": [],
   "source": [
    "expanded_df = edges.merge(demographics, on = 'id')"
   ]
  },
  {
   "cell_type": "code",
   "execution_count": 29,
   "id": "fd3ba6c5",
   "metadata": {},
   "outputs": [],
   "source": [
    "val = expanded_df.dropna()"
   ]
  },
  {
   "cell_type": "code",
   "execution_count": 30,
   "id": "9536b61a",
   "metadata": {},
   "outputs": [],
   "source": [
    "age_groups = [0, 18, 35, 55, 70, 120]\n",
    "\n",
    "age_group_names = ['<18', '18-34', '35-54', '55-70', '>70']\n",
    "\n",
    "df['Age_Group'] = pd.cut(df['userAge'], bins = age_groups, labels = age_group_names)"
   ]
  },
  {
   "cell_type": "code",
   "execution_count": 31,
   "id": "6012c0a6",
   "metadata": {
    "scrolled": true
   },
   "outputs": [
    {
     "name": "stdout",
     "output_type": "stream",
     "text": [
      "NC 206\n",
      "SC 112\n",
      "GA 237\n",
      "AL 95\n",
      "FL 452\n",
      "TN 146\n",
      "KY 113\n",
      "AR 77\n",
      "MS 42\n",
      "LA 81\n",
      "TX 464\n",
      "OK 104\n",
      "VA 178\n",
      "2307\n"
     ]
    }
   ],
   "source": [
    "state_counts = df.state.value_counts()\n",
    "\n",
    "south_states = ['NC','SC','GA','AL','FL','TN','KY','AR','MS','LA','TX','OK','VA']\n",
    "south_count = 0\n",
    "for state in south_states:\n",
    "    count = state_counts[state]\n",
    "    south_count += count\n",
    "    print(state, count)\n",
    "print(south_count)"
   ]
  },
  {
   "cell_type": "code",
   "execution_count": 32,
   "id": "f1cf6a7f",
   "metadata": {
    "scrolled": true
   },
   "outputs": [
    {
     "name": "stdout",
     "output_type": "stream",
     "text": [
      "WA 174\n",
      "CA 609\n",
      "OR 120\n",
      "AZ 159\n",
      "NV 75\n",
      "CO 141\n",
      "NM 42\n",
      "ID 56\n",
      "MT 30\n",
      "UT 49\n",
      "WY 17\n",
      "AK 21\n",
      "HI 20\n",
      "1513\n"
     ]
    }
   ],
   "source": [
    "west_states = ['WA','CA','OR','AZ','NV','CO','NM','ID','MT','UT','WY','AK','HI']\n",
    "west_count = 0\n",
    "for state in west_states:\n",
    "    count = state_counts[state]\n",
    "    west_count += count\n",
    "    print(state, count)\n",
    "print(west_count)"
   ]
  },
  {
   "cell_type": "code",
   "execution_count": 33,
   "id": "19ba396b",
   "metadata": {
    "scrolled": false
   },
   "outputs": [
    {
     "name": "stdout",
     "output_type": "stream",
     "text": [
      "DE 15\n",
      "RI 25\n",
      "MA 219\n",
      "PA 301\n",
      "NY 312\n",
      "NJ 168\n",
      "ME 44\n",
      "MD 91\n",
      "CT 59\n",
      "VT 19\n",
      "NH 36\n",
      "1289\n"
     ]
    }
   ],
   "source": [
    "northeast_states = ['DE','RI','MA','PA','NY','NJ','ME','MD','CT','VT','NH']\n",
    "northeast_count = 0\n",
    "for state in northeast_states:\n",
    "    count = state_counts[state]\n",
    "    northeast_count += count\n",
    "    print(state, count)\n",
    "print(northeast_count)"
   ]
  },
  {
   "cell_type": "code",
   "execution_count": 34,
   "id": "bf1918e6",
   "metadata": {},
   "outputs": [
    {
     "name": "stdout",
     "output_type": "stream",
     "text": [
      "KS 60\n",
      "MO 152\n",
      "IL 240\n",
      "IN 188\n",
      "NE 53\n",
      "SD 12\n",
      "ND 8\n",
      "MN 121\n",
      "WI 109\n",
      "MI 250\n",
      "OH 272\n",
      "IA 54\n",
      "1519\n"
     ]
    }
   ],
   "source": [
    "midwest_states = ['KS','MO','IL','IN','NE','SD','ND','MN','WI','MI','OH','IA']\n",
    "midwest_count = 0\n",
    "for state in midwest_states:\n",
    "    count = state_counts[state]\n",
    "    midwest_count += count\n",
    "    print(state, count)\n",
    "print(midwest_count)"
   ]
  },
  {
   "cell_type": "code",
   "execution_count": 35,
   "id": "0ef48c96",
   "metadata": {},
   "outputs": [],
   "source": [
    "tot_prevalence = val['disease'].value_counts()/val['id'].nunique()"
   ]
  },
  {
   "cell_type": "code",
   "execution_count": 36,
   "id": "7cde0fcd",
   "metadata": {},
   "outputs": [],
   "source": [
    "m_prevalence = val[val['sex'] == 'M']['disease'].value_counts()/val[val['sex'] == 'M']['id'].nunique()"
   ]
  },
  {
   "cell_type": "code",
   "execution_count": 37,
   "id": "3b840be8",
   "metadata": {},
   "outputs": [],
   "source": [
    "f_prevalence = val[val['sex'] == 'F']['disease'].value_counts()/val[val['sex'] == 'F']['id'].nunique()"
   ]
  },
  {
   "cell_type": "code",
   "execution_count": 38,
   "id": "c9126e88",
   "metadata": {},
   "outputs": [],
   "source": [
    "disease_list = tot_prevalence.index.tolist()"
   ]
  },
  {
   "cell_type": "code",
   "execution_count": 39,
   "id": "dc544e8d",
   "metadata": {},
   "outputs": [],
   "source": [
    "m_comorbidities = []\n",
    "f_comorbidities = []\n",
    "tot_comorbidities = []\n",
    "for disease in disease_list:\n",
    "    try:\n",
    "        m_comorbidities.append(m_prevalence[disease])\n",
    "    except:\n",
    "        m_comorbidities.append(0)\n",
    "    try:\n",
    "        f_comorbidities.append(f_prevalence[disease])\n",
    "    except:\n",
    "        f_comorbidities.append(0)\n",
    "    tot_comorbidities.append(tot_prevalence[disease])\n",
    "data = {'disease':disease_list, 'male_comorbidity':m_comorbidities, 'female_comorbidity':f_comorbidities, 'overall_comorbidity':tot_comorbidities}\n",
    "comorbidities_df = pd.DataFrame(data)"
   ]
  },
  {
   "cell_type": "code",
   "execution_count": 40,
   "id": "565b4690",
   "metadata": {},
   "outputs": [
    {
     "data": {
      "text/html": [
       "<div>\n",
       "<style scoped>\n",
       "    .dataframe tbody tr th:only-of-type {\n",
       "        vertical-align: middle;\n",
       "    }\n",
       "\n",
       "    .dataframe tbody tr th {\n",
       "        vertical-align: top;\n",
       "    }\n",
       "\n",
       "    .dataframe thead th {\n",
       "        text-align: right;\n",
       "    }\n",
       "</style>\n",
       "<table border=\"1\" class=\"dataframe\">\n",
       "  <thead>\n",
       "    <tr style=\"text-align: right;\">\n",
       "      <th></th>\n",
       "      <th>disease</th>\n",
       "      <th>male_comorbidity</th>\n",
       "      <th>female_comorbidity</th>\n",
       "      <th>overall_comorbidity</th>\n",
       "    </tr>\n",
       "  </thead>\n",
       "  <tbody>\n",
       "    <tr>\n",
       "      <th>0</th>\n",
       "      <td>epilepsy</td>\n",
       "      <td>1.000701</td>\n",
       "      <td>1.001636</td>\n",
       "      <td>1.001374</td>\n",
       "    </tr>\n",
       "    <tr>\n",
       "      <th>1</th>\n",
       "      <td>migraine</td>\n",
       "      <td>0.086255</td>\n",
       "      <td>0.197928</td>\n",
       "      <td>0.166667</td>\n",
       "    </tr>\n",
       "    <tr>\n",
       "      <th>2</th>\n",
       "      <td>generalized anxiety disorder</td>\n",
       "      <td>0.086255</td>\n",
       "      <td>0.149400</td>\n",
       "      <td>0.131724</td>\n",
       "    </tr>\n",
       "    <tr>\n",
       "      <th>3</th>\n",
       "      <td>major depressive disorder</td>\n",
       "      <td>0.085554</td>\n",
       "      <td>0.137132</td>\n",
       "      <td>0.122693</td>\n",
       "    </tr>\n",
       "    <tr>\n",
       "      <th>4</th>\n",
       "      <td>high blood pressure (hypertension)</td>\n",
       "      <td>0.079243</td>\n",
       "      <td>0.070065</td>\n",
       "      <td>0.072634</td>\n",
       "    </tr>\n",
       "    <tr>\n",
       "      <th>5</th>\n",
       "      <td>fibromyalgia</td>\n",
       "      <td>0.016830</td>\n",
       "      <td>0.092148</td>\n",
       "      <td>0.071064</td>\n",
       "    </tr>\n",
       "    <tr>\n",
       "      <th>6</th>\n",
       "      <td>traumatic brain injury</td>\n",
       "      <td>0.078541</td>\n",
       "      <td>0.059160</td>\n",
       "      <td>0.064586</td>\n",
       "    </tr>\n",
       "    <tr>\n",
       "      <th>7</th>\n",
       "      <td>hypothyroidism</td>\n",
       "      <td>0.023142</td>\n",
       "      <td>0.073064</td>\n",
       "      <td>0.059089</td>\n",
       "    </tr>\n",
       "    <tr>\n",
       "      <th>8</th>\n",
       "      <td>post-traumatic stress disorder</td>\n",
       "      <td>0.032258</td>\n",
       "      <td>0.058070</td>\n",
       "      <td>0.050844</td>\n",
       "    </tr>\n",
       "    <tr>\n",
       "      <th>9</th>\n",
       "      <td>asthma</td>\n",
       "      <td>0.021038</td>\n",
       "      <td>0.051799</td>\n",
       "      <td>0.043188</td>\n",
       "    </tr>\n",
       "    <tr>\n",
       "      <th>10</th>\n",
       "      <td>diabetes type 2</td>\n",
       "      <td>0.043478</td>\n",
       "      <td>0.036532</td>\n",
       "      <td>0.038477</td>\n",
       "    </tr>\n",
       "    <tr>\n",
       "      <th>11</th>\n",
       "      <td>bipolar disorder</td>\n",
       "      <td>0.023142</td>\n",
       "      <td>0.036805</td>\n",
       "      <td>0.032980</td>\n",
       "    </tr>\n",
       "    <tr>\n",
       "      <th>12</th>\n",
       "      <td>osteoporosis</td>\n",
       "      <td>0.021038</td>\n",
       "      <td>0.033261</td>\n",
       "      <td>0.029839</td>\n",
       "    </tr>\n",
       "    <tr>\n",
       "      <th>13</th>\n",
       "      <td>multiple sclerosis</td>\n",
       "      <td>0.011220</td>\n",
       "      <td>0.035442</td>\n",
       "      <td>0.028661</td>\n",
       "    </tr>\n",
       "    <tr>\n",
       "      <th>14</th>\n",
       "      <td>panic disorder</td>\n",
       "      <td>0.017532</td>\n",
       "      <td>0.031897</td>\n",
       "      <td>0.027876</td>\n",
       "    </tr>\n",
       "    <tr>\n",
       "      <th>15</th>\n",
       "      <td>osteoarthritis</td>\n",
       "      <td>0.012623</td>\n",
       "      <td>0.033806</td>\n",
       "      <td>0.027876</td>\n",
       "    </tr>\n",
       "    <tr>\n",
       "      <th>16</th>\n",
       "      <td>gastroesophageal reflux disease</td>\n",
       "      <td>0.016129</td>\n",
       "      <td>0.031897</td>\n",
       "      <td>0.027483</td>\n",
       "    </tr>\n",
       "    <tr>\n",
       "      <th>17</th>\n",
       "      <td>systemic lupus erythematosus</td>\n",
       "      <td>0.003506</td>\n",
       "      <td>0.035169</td>\n",
       "      <td>0.026305</td>\n",
       "    </tr>\n",
       "    <tr>\n",
       "      <th>18</th>\n",
       "      <td>hyperlipidemia</td>\n",
       "      <td>0.032959</td>\n",
       "      <td>0.021810</td>\n",
       "      <td>0.024931</td>\n",
       "    </tr>\n",
       "    <tr>\n",
       "      <th>19</th>\n",
       "      <td>insomnia</td>\n",
       "      <td>0.021038</td>\n",
       "      <td>0.022901</td>\n",
       "      <td>0.022379</td>\n",
       "    </tr>\n",
       "  </tbody>\n",
       "</table>\n",
       "</div>"
      ],
      "text/plain": [
       "                               disease  male_comorbidity  female_comorbidity  \\\n",
       "0                             epilepsy          1.000701            1.001636   \n",
       "1                             migraine          0.086255            0.197928   \n",
       "2         generalized anxiety disorder          0.086255            0.149400   \n",
       "3            major depressive disorder          0.085554            0.137132   \n",
       "4   high blood pressure (hypertension)          0.079243            0.070065   \n",
       "5                         fibromyalgia          0.016830            0.092148   \n",
       "6               traumatic brain injury          0.078541            0.059160   \n",
       "7                       hypothyroidism          0.023142            0.073064   \n",
       "8       post-traumatic stress disorder          0.032258            0.058070   \n",
       "9                               asthma          0.021038            0.051799   \n",
       "10                     diabetes type 2          0.043478            0.036532   \n",
       "11                    bipolar disorder          0.023142            0.036805   \n",
       "12                        osteoporosis          0.021038            0.033261   \n",
       "13                  multiple sclerosis          0.011220            0.035442   \n",
       "14                      panic disorder          0.017532            0.031897   \n",
       "15                      osteoarthritis          0.012623            0.033806   \n",
       "16     gastroesophageal reflux disease          0.016129            0.031897   \n",
       "17        systemic lupus erythematosus          0.003506            0.035169   \n",
       "18                      hyperlipidemia          0.032959            0.021810   \n",
       "19                            insomnia          0.021038            0.022901   \n",
       "\n",
       "    overall_comorbidity  \n",
       "0              1.001374  \n",
       "1              0.166667  \n",
       "2              0.131724  \n",
       "3              0.122693  \n",
       "4              0.072634  \n",
       "5              0.071064  \n",
       "6              0.064586  \n",
       "7              0.059089  \n",
       "8              0.050844  \n",
       "9              0.043188  \n",
       "10             0.038477  \n",
       "11             0.032980  \n",
       "12             0.029839  \n",
       "13             0.028661  \n",
       "14             0.027876  \n",
       "15             0.027876  \n",
       "16             0.027483  \n",
       "17             0.026305  \n",
       "18             0.024931  \n",
       "19             0.022379  "
      ]
     },
     "execution_count": 40,
     "metadata": {},
     "output_type": "execute_result"
    }
   ],
   "source": [
    "comorbidities_df.head(20)"
   ]
  },
  {
   "cell_type": "code",
   "execution_count": 41,
   "id": "bcd400fd",
   "metadata": {},
   "outputs": [],
   "source": [
    "df.to_csv('filtered_PLM.csv')"
   ]
  }
 ],
 "metadata": {
  "kernelspec": {
   "display_name": "Python 3",
   "language": "python",
   "name": "python3"
  },
  "language_info": {
   "codemirror_mode": {
    "name": "ipython",
    "version": 3
   },
   "file_extension": ".py",
   "mimetype": "text/x-python",
   "name": "python",
   "nbconvert_exporter": "python",
   "pygments_lexer": "ipython3",
   "version": "3.8.8"
  }
 },
 "nbformat": 4,
 "nbformat_minor": 5
}
